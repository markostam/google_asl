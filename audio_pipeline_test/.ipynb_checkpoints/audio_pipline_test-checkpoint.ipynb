{
 "cells": [
  {
   "cell_type": "code",
   "execution_count": 1,
   "metadata": {
    "collapsed": false,
    "deletable": true,
    "editable": true
   },
   "outputs": [
    {
     "name": "stdout",
     "output_type": "stream",
     "text": [
      "('1.2.1', '0.5.1')\n"
     ]
    }
   ],
   "source": [
    "import tensorflow as tf\n",
    "import librosa\n",
    "import librosa.display\n",
    "import matplotlib.pyplot as plt\n",
    "import numpy as np\n",
    "import os\n",
    "import itertools\n",
    "import random\n",
    "import taglib\n",
    "import jams\n",
    "import muda\n",
    "import time\n",
    "print(tf.__version__, librosa.__version__)\n",
    "%matplotlib inline"
   ]
  },
  {
   "cell_type": "code",
   "execution_count": null,
   "metadata": {
    "collapsed": true,
    "deletable": true,
    "editable": true
   },
   "outputs": [],
   "source": [
    "mp3_dir = \"./mp3\""
   ]
  },
  {
   "cell_type": "code",
   "execution_count": null,
   "metadata": {
    "collapsed": false,
    "deletable": true,
    "editable": true
   },
   "outputs": [],
   "source": [
    "mp3s = [os.path.join(mp3_dir, i) for i in os.listdir(mp3_dir)]"
   ]
  },
  {
   "cell_type": "code",
   "execution_count": null,
   "metadata": {
    "collapsed": false,
    "deletable": true,
    "editable": true
   },
   "outputs": [],
   "source": [
    "def read_audiofile(filename):\n",
    "    y, sr = librosa.core.load(path = filename, duration = 5,  res_type='kaiser_fast')\n",
    "    cqt = librosa.core.cqt(y, sr=sr)\n",
    "    return abs(cqt[:,200]).astype(\"float32\")"
   ]
  },
  {
   "cell_type": "code",
   "execution_count": null,
   "metadata": {
    "collapsed": false,
    "deletable": true,
    "editable": true
   },
   "outputs": [],
   "source": [
    "# y, sr = librosa.core.load(path = mp3s[0])\n",
    "# cqt = librosa.core.cqt(y, sr=sr)"
   ]
  },
  {
   "cell_type": "code",
   "execution_count": null,
   "metadata": {
    "collapsed": false,
    "deletable": true,
    "editable": true
   },
   "outputs": [],
   "source": [
    "# a = read_audiofile(mp3s[0])"
   ]
  },
  {
   "cell_type": "code",
   "execution_count": null,
   "metadata": {
    "collapsed": true,
    "deletable": true,
    "editable": true
   },
   "outputs": [],
   "source": [
    "fq = tf.train.string_input_producer(mp3s, num_epochs=None, shuffle=True, seed=None, capacity=50)\n",
    "fname = fq.dequeue()"
   ]
  },
  {
   "cell_type": "code",
   "execution_count": null,
   "metadata": {
    "collapsed": false,
    "deletable": true,
    "editable": true
   },
   "outputs": [],
   "source": [
    "test = tf.expand_dims(tf.py_func(read_audiofile, [fname], tf.float32),0)"
   ]
  },
  {
   "cell_type": "code",
   "execution_count": null,
   "metadata": {
    "collapsed": false,
    "deletable": true,
    "editable": true
   },
   "outputs": [],
   "source": [
    "batch = tf.train.shuffle_batch_join(\n",
    "    \n",
    "    [[test]]*8,                   # this many parallel\n",
    "    batch_size = 1,                # dequeue this many\n",
    "    capacity = 50,                 # this is the queue capacity\n",
    "    min_after_dequeue = 10,         # minimum after dq\n",
    "    enqueue_many = True,           # enqueue many\n",
    "    shapes = tf.TensorShape([84])  # shape of the non-batch dimension\n",
    "\n",
    ")"
   ]
  },
  {
   "cell_type": "code",
   "execution_count": null,
   "metadata": {
    "collapsed": false,
    "deletable": true,
    "editable": true
   },
   "outputs": [],
   "source": [
    "with tf.Session() as sess:\n",
    "    coord = tf.train.Coordinator()\n",
    "    init = tf.global_variables_initializer()\n",
    "    threads = tf.train.start_queue_runners(sess=sess, coord=coord)\n",
    "    for _ in range(50):\n",
    "        a = sess.run(batch)\n",
    "        print(a)\n",
    "    coord.request_stop()\n",
    "    coord.join(threads)\n",
    "    "
   ]
  },
  {
   "cell_type": "markdown",
   "metadata": {
    "deletable": true,
    "editable": true
   },
   "source": [
    "# Pipeline for Second Hand Songset"
   ]
  },
  {
   "cell_type": "code",
   "execution_count": 2,
   "metadata": {
    "collapsed": true,
    "deletable": true,
    "editable": true
   },
   "outputs": [],
   "source": [
    "TRAIN_FOLDER = \"/Users/markostamenovic/code/shs/shs_train\""
   ]
  },
  {
   "cell_type": "code",
   "execution_count": 3,
   "metadata": {
    "collapsed": false,
    "deletable": true,
    "editable": true
   },
   "outputs": [],
   "source": [
    "def txt_to_cliques(shs_loc):\n",
    "    '''\n",
    "    reads a textfile of song cliques in shs\n",
    "    creates a dictionary out of second hand songset 'cliques'\n",
    "    or groups of cover songs and returns the dict of cliques\n",
    "    based on their msd id\n",
    "    '''\n",
    "    shs = list(open(shs_loc))\n",
    "    shs = shs[14:]\n",
    "    cliques = {}\n",
    "    for ent in shs:\n",
    "        ent = ent.replace('\\n','')\n",
    "        if ent[0] == '%':\n",
    "            tempKey = ent.lower()\n",
    "            cliques[tempKey] = []\n",
    "        else:\n",
    "            cliques[tempKey].append(ent.split(\"<SEP>\")[0]+'.mp3')\n",
    "    return cliques\n",
    "cliques = txt_to_cliques(os.path.join(TRAIN_FOLDER, \"shs_dataset_train.txt\"))"
   ]
  },
  {
   "cell_type": "code",
   "execution_count": 4,
   "metadata": {
    "collapsed": false,
    "deletable": true,
    "editable": true
   },
   "outputs": [],
   "source": [
    "def get_labels(cliques):\n",
    "    # get and flatten all combination of coversongs\n",
    "    positive_examples = (list(itertools.combinations(val,2)) for key,val in cliques.items())\n",
    "    positive_examples = [i for j in positive_examples for i in j]\n",
    "    positive_len_og = len(positive_examples)\n",
    "    positive_labels = [[0,1] for _ in positive_examples]\n",
    "    # generate negative examples of an equivalent length to the positive examples list\n",
    "    song_from_each_clique = (random.choice(val) for key,val in cliques.items())\n",
    "    negative_examples = itertools.combinations(song_from_each_clique,2)\n",
    "    negative_examples = list(itertools.islice(negative_examples, positive_len_og))\n",
    "    negative_labels = [[1,0] for _ in negative_examples]\n",
    "    # \n",
    "    x = positive_examples + negative_examples\n",
    "    y = positive_labels + negative_labels\n",
    "    return zip(x,y)"
   ]
  },
  {
   "cell_type": "code",
   "execution_count": 5,
   "metadata": {
    "collapsed": true,
    "deletable": true,
    "editable": true
   },
   "outputs": [],
   "source": [
    "def join_files_to_path(targets_labels):\n",
    "    return [(map(lambda x: os.path.join(TRAIN_FOLDER, x), target), label) for target,label in targets_labels] "
   ]
  },
  {
   "cell_type": "code",
   "execution_count": 6,
   "metadata": {
    "collapsed": false,
    "deletable": true,
    "editable": true
   },
   "outputs": [],
   "source": [
    "corrupted_folder = \"/Users/markostamenovic/code/shs/shs_train/small_size_mp3s\"\n",
    "\n",
    "def prune_corrupted_files(targets_labels):\n",
    "    corrupted_folder = os.path.join(TRAIN_FOLDER, \"small_size_mp3s\")\n",
    "    pruned = []\n",
    "    corrupted = [i for i in os.listdir(corrupted_folder) if i.endswith(\"mp3\")]\n",
    "    clean = [i for i in os.listdir(TRAIN_FOLDER) if i.endswith(\"mp3\")]\n",
    "    \n",
    "    for target, label in targets_labels:\n",
    "        if target[0] in corrupted or target[1] in corrupted:\n",
    "            pass\n",
    "        if target[0] not in clean or target[1] not in clean:\n",
    "            pass\n",
    "        else:\n",
    "            pruned.append((target,label))\n",
    "    return pruned\n",
    "    "
   ]
  },
  {
   "cell_type": "code",
   "execution_count": null,
   "metadata": {
    "collapsed": false,
    "deletable": true,
    "editable": true
   },
   "outputs": [],
   "source": [
    "# def prepare_example(pair_and_target, duration):\n",
    "#     pair_spec = [process_one_file(i, duration) for i in pair_paths]\n",
    "#     return ((pair_spec[0], pair_spec[1]), pair_and_target[1])\n",
    "# def prepare_example_t(filename_pair, duration):\n",
    "#     pair_spec = [process_one_file(i, duration) for i in pair_paths]\n",
    "#     return np.array(pair_spec)\n",
    "# def prepare_example_t2(fn1, fn2, duration):\n",
    "#     pair_spec = [process_one_file(i, duration) for i in pair_paths]\n",
    "#     return np.array(pair_spec)"
   ]
  },
  {
   "cell_type": "code",
   "execution_count": 7,
   "metadata": {
    "collapsed": false,
    "deletable": true,
    "editable": true
   },
   "outputs": [],
   "source": [
    "def process_one_file(file_path, _duration, augmentation = True):\n",
    "#     1 loop, best of 3: 578 ms per loop\n",
    "#     t0 = time.time()\n",
    "    file_path = file_path[0]\n",
    "    stretch_scale = .05\n",
    "    duration = np.multiply( _duration, ( np.add( np.multiply( stretch_scale, 2), 1))) # we do this to pad for potential stretch\n",
    "    f_len = np.float32(taglib.File(file_path).length)\n",
    "    # require(duration >= f_len) check that duration is below length\n",
    "    start_bound = np.subtract(f_len, _duration)\n",
    "    start = np.float(np.random.randint(0,start_bound))\n",
    "    y, sr = librosa.core.load(path = file_path,\n",
    "#                               offset = None,\n",
    "#                               duration = None,  \n",
    "                              res_type='kaiser_fast')\n",
    "    ''' deformation pipeline'''\n",
    "    if augmentation:\n",
    "        jam = jams.JAMS()\n",
    "        jam.file_metadata.duration = librosa.get_duration(y=y, sr=sr)\n",
    "        jam.file_metadata.identifiers = os.path.basename(file_path)\n",
    "        j_orig = muda.jam_pack(jam, _audio=dict(y=y, sr=sr))\n",
    "        pitch_shift = muda.deformers.RandomPitchShift(n_samples=1, mean=0.0, sigma=1.0)\n",
    "        time_stretch = muda.deformers.RandomTimeStretch(n_samples=1, location=0.0, scale=stretch_scale)\n",
    "    #     noise = muda.deformers.BackgroundNoise(n_samples=1)\n",
    "    #     drc = muda.deformers.DynamicRangeCompression(preset=muda.deformers.PRESETS.keys())\n",
    "    #     drc = muda.deformers.PRESETS.keys()\n",
    "    #     drc.append(False)\n",
    "    #     drc = random.choice(drc)\n",
    "    #     if drc:\n",
    "    #         compress = muda.deformers.DynamicRangeCompression(preset=drc)\n",
    "    #     else:\n",
    "    #         compress = time_stretch\n",
    "        pipeline = muda.Pipeline(steps=[('pitch_shift', pitch_shift),\n",
    "                                        ('time_stretch', time_stretch)])\n",
    "        out = list(pipeline.transform(j_orig))[0]\n",
    "        y_t, sr_t = out.sandbox.muda._audio.values()\n",
    "        '''zero pad for deformation length change'''\n",
    "    else:\n",
    "        y_t = y\n",
    "        sr_t = sr\n",
    "        \n",
    "    required_samples = _duration*sr_t\n",
    "    deformed_samples = y_t.shape[0]\n",
    "    sample_diff = abs(deformed_samples - required_samples)\n",
    "\n",
    "    if deformed_samples > required_samples:\n",
    "        y_t = y_t[:required_samples]\n",
    "    else:\n",
    "        y_t = np.lib.pad(y_t, (0,sample_diff), 'constant', constant_values=(0, 0))\n",
    "    \n",
    "    '''get cqt'''\n",
    "    cqt = librosa.core.cqt(y_t, sr=sr_t,\n",
    "                           hop_length=1024, \n",
    "                           fmin=None, n_bins=84, \n",
    "                           bins_per_octave=12, \n",
    "                           tuning=0.0, \n",
    "                           filter_scale=1, \n",
    "                           norm=1, \n",
    "                           sparsity=0.01, \n",
    "                           window='hann', \n",
    "                           scale=True)\n",
    "    \n",
    "#     elapsed = time.time() - t0\n",
    "#     print(\"elapsed = {}\").format(elapsed)\n",
    "    return np.abs(cqt).astype(\"float32\")"
   ]
  },
  {
   "cell_type": "code",
   "execution_count": 10,
   "metadata": {
    "collapsed": false,
    "deletable": true,
    "editable": true
   },
   "outputs": [],
   "source": [
    "# plt.figure(figsize=(10, 4))\n",
    "# librosa.display.specshow(librosa.power_to_db(S,ref=np.max),\n",
    "#                           y_axis='mel', fmax=11025,\n",
    "#                           x_axis='time')\n",
    "# plt.colorbar(format='%+2.0f dB')\n",
    "# plt.title('Mel spectrogram')\n",
    "# plt.tight_layout()"
   ]
  },
  {
   "cell_type": "code",
   "execution_count": 12,
   "metadata": {
    "collapsed": true,
    "deletable": true,
    "editable": true
   },
   "outputs": [],
   "source": [
    "targets_labels = join_files_to_path(prune_corrupted_files(get_labels(cliques)))\n",
    "targets_t_0 = tf.cast(tf.expand_dims(tf.convert_to_tensor(np.array(targets_labels)[:,0][:,0]),1), tf.string)\n",
    "targets_t_1 = tf.cast(tf.expand_dims(tf.convert_to_tensor(np.array(targets_labels)[:,0][:,1]),1), tf.string)\n",
    "labels_t = tf.convert_to_tensor(np.array(targets_labels)[:,1].astype(\"float32\"))"
   ]
  },
  {
   "cell_type": "code",
   "execution_count": 13,
   "metadata": {
    "collapsed": false,
    "deletable": true,
    "editable": true
   },
   "outputs": [],
   "source": [
    "f0, f1, labels = tf.train.slice_input_producer(\n",
    "    [targets_t_0, targets_t_1, labels_t], \n",
    "    num_epochs=None, \n",
    "    shuffle=True, \n",
    "    seed=None, \n",
    "    capacity=10000)"
   ]
  },
  {
   "cell_type": "code",
   "execution_count": 19,
   "metadata": {
    "collapsed": true,
    "deletable": true,
    "editable": true
   },
   "outputs": [],
   "source": [
    "def get_slices(filename, sr=22050, hop_length=1024, duration=15, file_read_dur=29):\n",
    "    frames_pre_sec = int(sr/hop_length)\n",
    "    slice_size = duration*(frames_pre_sec)\n",
    "#     print(slice_size)\n",
    "    spec_1_t = tf.py_func(process_one_file, [filename, file_read_dur], tf.float32)\n",
    "#     _, ncols = spec_1_t.shape.as_list()\n",
    "    ncols=625\n",
    "    spec_1_t.set_shape([84, 625])\n",
    "    at_win = tf.map_fn(lambda i: spec_1_t[:,i:i+slice_size], tf.range(ncols - slice_size+1), dtype=tf.float32)\n",
    "    at_shuff = tf.random_shuffle(at_win)\n",
    "    return at_shuff"
   ]
  },
  {
   "cell_type": "code",
   "execution_count": 15,
   "metadata": {
    "collapsed": false,
    "deletable": true,
    "editable": true
   },
   "outputs": [],
   "source": [
    "specs = tf.stack([get_slices(f0), get_slices(f1)],1)"
   ]
  },
  {
   "cell_type": "code",
   "execution_count": null,
   "metadata": {
    "collapsed": false,
    "deletable": true,
    "editable": true
   },
   "outputs": [],
   "source": [
    "# with tf.Session() as sess:\n",
    "#     init = tf.global_variables_initializer()\n",
    "#     coord = tf.train.Coordinator()\n",
    "#     threads = tf.train.start_queue_runners(sess=sess, coord=coord)\n",
    "#     for _ in range(20):\n",
    "#         a = sess.run(specs)\n",
    "#         print(a.shape)\n",
    "#     coord.request_stop()\n",
    "#     coord.join(threads)"
   ]
  },
  {
   "cell_type": "code",
   "execution_count": 16,
   "metadata": {
    "collapsed": false,
    "deletable": true,
    "editable": true
   },
   "outputs": [],
   "source": [
    "batch_j = tf.train.shuffle_batch_join(\n",
    "    \n",
    "    [[specs]]*8,                            # this many parallel\n",
    "    batch_size = 16,                        # dequeue this many\n",
    "    capacity = 8192,                         # this is the queue capacity\n",
    "    min_after_dequeue = 7192,                # minimum after dq\n",
    "    enqueue_many = True,                   # enqueue many\n",
    "    shapes = tf.TensorShape([2, 84, 315])  # shape of the non-batch dimension\n",
    "\n",
    ")"
   ]
  },
  {
   "cell_type": "code",
   "execution_count": 17,
   "metadata": {
    "collapsed": false,
    "deletable": true,
    "editable": true
   },
   "outputs": [],
   "source": [
    "batch = tf.train.shuffle_batch(\n",
    "    \n",
    "    [specs],                            \n",
    "    batch_size = 16,                        # dequeue this many\n",
    "    capacity = 8192,                         # this is the queue capacity\n",
    "    min_after_dequeue = 7192,                # minimum after dq\n",
    "    num_threads=8,\n",
    "    enqueue_many = True,                   # enqueue many\n",
    "    shapes = tf.TensorShape([2, 84, 315])  # shape of the non-batch dimension\n",
    "\n",
    ")"
   ]
  },
  {
   "cell_type": "code",
   "execution_count": 18,
   "metadata": {
    "collapsed": false,
    "deletable": true,
    "editable": true
   },
   "outputs": [
    {
     "name": "stdout",
     "output_type": "stream",
     "text": [
      "(16, 2, 84, 315)\n",
      "steps per sec = 0.0191529261954\n",
      "(16, 2, 84, 315)\n",
      "steps per sec = 0.496162413394\n",
      "(16, 2, 84, 315)\n",
      "steps per sec = 0.0403975719063\n",
      "(16, 2, 84, 315)\n",
      "steps per sec = 0.444961394918\n",
      "(16, 2, 84, 315)\n",
      "steps per sec = 0.712335848973\n",
      "(16, 2, 84, 315)\n",
      "steps per sec = 0.872721340756\n",
      "(16, 2, 84, 315)\n",
      "steps per sec = 7.7117053511\n",
      "(16, 2, 84, 315)\n",
      "steps per sec = 13.8908156371\n",
      "(16, 2, 84, 315)\n",
      "steps per sec = 12.2191005017\n",
      "(16, 2, 84, 315)\n",
      "steps per sec = 276.924864651\n",
      "(16, 2, 84, 315)\n",
      "steps per sec = 281.685963734\n",
      "(16, 2, 84, 315)\n",
      "steps per sec = 266.102271285\n",
      "(16, 2, 84, 315)\n",
      "steps per sec = 85.0047424101\n",
      "(16, 2, 84, 315)\n",
      "steps per sec = 0.217087435021\n",
      "(16, 2, 84, 315)\n",
      "steps per sec = 42.0081526366\n",
      "(16, 2, 84, 315)\n",
      "steps per sec = 168.750915309\n",
      "(16, 2, 84, 315)\n",
      "steps per sec = 80.2123541786\n",
      "(16, 2, 84, 315)\n",
      "steps per sec = 152.931670677\n",
      "(16, 2, 84, 315)\n",
      "steps per sec = 119.244441917\n",
      "(16, 2, 84, 315)\n",
      "steps per sec = 208.983756851\n",
      "(16, 2, 84, 315)\n",
      "steps per sec = 105.373932268\n",
      "(16, 2, 84, 315)\n",
      "steps per sec = 67.3037757345\n",
      "(16, 2, 84, 315)\n",
      "steps per sec = 12.8392999813\n",
      "(16, 2, 84, 315)\n",
      "steps per sec = 124.485916956\n",
      "(16, 2, 84, 315)\n",
      "steps per sec = 303.034751824\n",
      "(16, 2, 84, 315)\n",
      "steps per sec = 382.134110787\n",
      "(16, 2, 84, 315)\n",
      "steps per sec = 361.921132108\n",
      "(16, 2, 84, 315)\n",
      "steps per sec = 40.6933473043\n",
      "(16, 2, 84, 315)\n",
      "steps per sec = 308.745233714\n",
      "(16, 2, 84, 315)\n",
      "steps per sec = 408.522840168\n",
      "(16, 2, 84, 315)\n",
      "steps per sec = 335.008306709\n",
      "(16, 2, 84, 315)\n",
      "steps per sec = 68.0639371663\n",
      "(16, 2, 84, 315)\n",
      "steps per sec = 66.3697702386\n",
      "(16, 2, 84, 315)\n",
      "steps per sec = 107.736867792\n",
      "(16, 2, 84, 315)\n",
      "steps per sec = 183.622449873\n",
      "(16, 2, 84, 315)\n",
      "steps per sec = 101.493103615\n",
      "(16, 2, 84, 315)\n",
      "steps per sec = 255.298800901\n",
      "(16, 2, 84, 315)\n",
      "steps per sec = 288.684974878\n",
      "(16, 2, 84, 315)\n",
      "steps per sec = 181.658105591\n",
      "(16, 2, 84, 315)\n",
      "steps per sec = 217.400300627\n",
      "(16, 2, 84, 315)\n",
      "steps per sec = 151.010045005\n",
      "(16, 2, 84, 315)\n",
      "steps per sec = 263.643472248\n",
      "(16, 2, 84, 315)\n",
      "steps per sec = 10.1484754194\n",
      "(16, 2, 84, 315)\n",
      "steps per sec = 127.161775406\n",
      "(16, 2, 84, 315)\n",
      "steps per sec = 190.624187611\n",
      "(16, 2, 84, 315)\n",
      "steps per sec = 205.936269455\n",
      "(16, 2, 84, 315)\n",
      "steps per sec = 16.5675372486\n",
      "(16, 2, 84, 315)\n",
      "steps per sec = 125.158271664\n",
      "(16, 2, 84, 315)\n",
      "steps per sec = 178.412693011\n",
      "(16, 2, 84, 315)\n",
      "steps per sec = 85.6959790781\n",
      "(16, 2, 84, 315)\n",
      "steps per sec = 39.4275615717\n",
      "(16, 2, 84, 315)\n",
      "steps per sec = 74.9290601497\n",
      "(16, 2, 84, 315)\n",
      "steps per sec = 180.602135722\n",
      "(16, 2, 84, 315)\n",
      "steps per sec = 297.173303103\n",
      "(16, 2, 84, 315)\n",
      "steps per sec = 205.381647243\n",
      "(16, 2, 84, 315)\n",
      "steps per sec = 67.7735873447\n",
      "(16, 2, 84, 315)\n",
      "steps per sec = 52.1725025811\n",
      "(16, 2, 84, 315)\n",
      "steps per sec = 103.178371996\n",
      "(16, 2, 84, 315)\n",
      "steps per sec = 189.684515195\n",
      "(16, 2, 84, 315)\n",
      "steps per sec = 184.470422659\n",
      "(16, 2, 84, 315)\n",
      "steps per sec = 288.764475043\n",
      "(16, 2, 84, 315)\n",
      "steps per sec = 84.2805127999\n",
      "(16, 2, 84, 315)\n",
      "steps per sec = 285.637700899\n",
      "(16, 2, 84, 315)\n",
      "steps per sec = 269.903732304\n",
      "(16, 2, 84, 315)\n",
      "steps per sec = 234.357937084\n",
      "(16, 2, 84, 315)\n",
      "steps per sec = 159.898745759\n",
      "(16, 2, 84, 315)\n",
      "steps per sec = 188.856049349\n",
      "(16, 2, 84, 315)\n",
      "steps per sec = 254.385249879\n",
      "(16, 2, 84, 315)\n",
      "steps per sec = 217.524323203\n",
      "(16, 2, 84, 315)\n",
      "steps per sec = 109.913626834\n",
      "(16, 2, 84, 315)\n",
      "steps per sec = 215.656537611\n",
      "(16, 2, 84, 315)\n",
      "steps per sec = 56.7511061199\n",
      "(16, 2, 84, 315)\n",
      "steps per sec = 13.2268200539\n",
      "(16, 2, 84, 315)\n",
      "steps per sec = 276.013687813\n",
      "(16, 2, 84, 315)\n",
      "steps per sec = 301.748489209\n",
      "(16, 2, 84, 315)\n",
      "steps per sec = 172.946726043\n",
      "(16, 2, 84, 315)\n",
      "steps per sec = 253.800314656\n",
      "(16, 2, 84, 315)\n",
      "steps per sec = 198.293494705\n",
      "(16, 2, 84, 315)\n",
      "steps per sec = 294.378439079\n",
      "(16, 2, 84, 315)\n",
      "steps per sec = 227.111977475\n",
      "(16, 2, 84, 315)\n",
      "steps per sec = 255.563246405\n",
      "(16, 2, 84, 315)\n",
      "steps per sec = 316.074152223\n",
      "(16, 2, 84, 315)\n",
      "steps per sec = 183.389620043\n",
      "(16, 2, 84, 315)\n",
      "steps per sec = 219.539596964\n",
      "(16, 2, 84, 315)\n",
      "steps per sec = 313.007761194\n",
      "(16, 2, 84, 315)\n",
      "steps per sec = 263.7097768\n",
      "(16, 2, 84, 315)\n",
      "steps per sec = 229.824876712\n",
      "(16, 2, 84, 315)\n",
      "steps per sec = 294.895872882\n",
      "(16, 2, 84, 315)\n",
      "steps per sec = 268.229455778\n",
      "(16, 2, 84, 315)\n",
      "steps per sec = 181.390995978\n",
      "(16, 2, 84, 315)\n",
      "steps per sec = 82.0546208624\n",
      "(16, 2, 84, 315)\n",
      "steps per sec = 0.407521362472\n",
      "(16, 2, 84, 315)\n",
      "steps per sec = 36.0673138936\n",
      "(16, 2, 84, 315)\n",
      "steps per sec = 20.2536300818\n",
      "(16, 2, 84, 315)\n",
      "steps per sec = 74.3881952327\n",
      "(16, 2, 84, 315)\n",
      "steps per sec = 79.0319383467\n",
      "(16, 2, 84, 315)\n",
      "steps per sec = 196.353354244\n",
      "(16, 2, 84, 315)\n",
      "steps per sec = 158.078769834\n",
      "(16, 2, 84, 315)\n",
      "steps per sec = 137.531691642\n",
      "(16, 2, 84, 315)\n",
      "steps per sec = 289.681884108\n",
      "mean steps per sec = 167.603540544\n"
     ]
    }
   ],
   "source": [
    "with tf.Session() as sess:\n",
    "    init = tf.global_variables_initializer()\n",
    "    coord = tf.train.Coordinator()\n",
    "    threads = tf.train.start_queue_runners(sess=sess, coord=coord)\n",
    "    sps = []\n",
    "    for _ in range(100):\n",
    "        t0 = time.time()\n",
    "        a = sess.run(batch)\n",
    "        print(a.shape)\n",
    "        elapsed = time.time() - t0\n",
    "        steps_sec = 1/elapsed\n",
    "        print(\"steps per sec = {}\").format(steps_sec)\n",
    "        sps.append(steps_sec)\n",
    "    print(\"mean steps per sec = {}\").format(np.mean(sps[4:])) #drop the first few steps bc thats filling queue\n",
    "    coord.request_stop()\n",
    "    coord.join(threads)"
   ]
  },
  {
   "cell_type": "markdown",
   "metadata": {
    "deletable": true,
    "editable": true
   },
   "source": [
    "# CQT + augmentation"
   ]
  },
  {
   "cell_type": "code",
   "execution_count": null,
   "metadata": {
    "collapsed": false,
    "deletable": true,
    "editable": true
   },
   "outputs": [],
   "source": [
    "# test_batch (spec_1_t, batch=16, capacity=500, min_after=96, threads=10)\n",
    "mean steps per sec = 0.366544011329\n",
    "# batch (specs, batch=16, capacity=500, min_after=96, threads=10)\n",
    "mean steps per sec = 0.0942568688019\n",
    "# batch (specs, batch=16, capacity=8192, min_after=128, threads=10)\n",
    "mean steps per sec = 0.0535887313918"
   ]
  },
  {
   "cell_type": "markdown",
   "metadata": {
    "deletable": true,
    "editable": true
   },
   "source": [
    "# Melspec"
   ]
  },
  {
   "cell_type": "code",
   "execution_count": null,
   "metadata": {
    "collapsed": true,
    "deletable": true,
    "editable": true
   },
   "outputs": [],
   "source": [
    "# batch (specs, batch=16, capacity=512, min_after=256, threads=8)\n",
    "mean steps per sec = 0.609374554925\n",
    "# batch (specs, batch=16, capacity=512, min_after=256, threads=4)\n",
    "mean steps per sec = 0.3713539654\n",
    "# batch (specs, batch=16, capacity=512, min_after=64, threads=8)\n",
    "mean steps per sec = 0.219082933871\n",
    "\n",
    "\n"
   ]
  },
  {
   "cell_type": "code",
   "execution_count": null,
   "metadata": {
    "collapsed": true,
    "deletable": true,
    "editable": true
   },
   "outputs": [],
   "source": []
  }
 ],
 "metadata": {
  "kernelspec": {
   "display_name": "Python 2",
   "language": "python",
   "name": "python2"
  },
  "language_info": {
   "codemirror_mode": {
    "name": "ipython",
    "version": 2
   },
   "file_extension": ".py",
   "mimetype": "text/x-python",
   "name": "python",
   "nbconvert_exporter": "python",
   "pygments_lexer": "ipython2",
   "version": "2.7.13"
  }
 },
 "nbformat": 4,
 "nbformat_minor": 2
}
