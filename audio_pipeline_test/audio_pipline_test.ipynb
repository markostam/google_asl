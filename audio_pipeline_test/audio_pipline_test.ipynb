{
 "cells": [
  {
   "cell_type": "code",
   "execution_count": 1,
   "metadata": {
    "collapsed": false,
    "deletable": true,
    "editable": true
   },
   "outputs": [
    {
     "name": "stdout",
     "output_type": "stream",
     "text": [
      "('1.2.1', '0.5.1')\n"
     ]
    }
   ],
   "source": [
    "import tensorflow as tf\n",
    "import librosa\n",
    "import librosa.display\n",
    "import matplotlib.pyplot as plt\n",
    "import numpy as np\n",
    "import os\n",
    "import itertools\n",
    "import random\n",
    "import taglib\n",
    "import jams\n",
    "import muda\n",
    "import time\n",
    "print(tf.__version__, librosa.__version__)\n",
    "%matplotlib inline"
   ]
  },
  {
   "cell_type": "markdown",
   "metadata": {
    "deletable": true,
    "editable": true
   },
   "source": [
    "# Pipeline for Second Hand Songset"
   ]
  },
  {
   "cell_type": "code",
   "execution_count": 2,
   "metadata": {
    "collapsed": true,
    "deletable": true,
    "editable": true
   },
   "outputs": [],
   "source": [
    "TRAIN_FOLDER = \"/Users/markostamenovic/code/shs/shs_train\""
   ]
  },
  {
   "cell_type": "code",
   "execution_count": 3,
   "metadata": {
    "collapsed": false,
    "deletable": true,
    "editable": true
   },
   "outputs": [],
   "source": [
    "def txt_to_cliques(shs_loc):\n",
    "    '''\n",
    "    reads a textfile of song cliques in shs\n",
    "    creates a dictionary out of second hand songset 'cliques'\n",
    "    or groups of cover songs and returns the dict of cliques\n",
    "    based on their msd id\n",
    "    '''\n",
    "    shs = list(open(shs_loc))\n",
    "    shs = shs[14:]\n",
    "    cliques = {}\n",
    "    for ent in shs:\n",
    "        ent = ent.replace('\\n','')\n",
    "        if ent[0] == '%':\n",
    "            tempKey = ent.lower()\n",
    "            cliques[tempKey] = []\n",
    "        else:\n",
    "            cliques[tempKey].append(ent.split(\"<SEP>\")[0]+'.mp3')\n",
    "    return cliques\n",
    "cliques = txt_to_cliques(os.path.join(TRAIN_FOLDER, \"shs_dataset_train.txt\"))"
   ]
  },
  {
   "cell_type": "code",
   "execution_count": 4,
   "metadata": {
    "collapsed": false,
    "deletable": true,
    "editable": true
   },
   "outputs": [],
   "source": [
    "def get_labels(cliques):\n",
    "    # get and flatten all combination of coversongs\n",
    "    positive_examples = (list(itertools.combinations(val,2)) for key,val in cliques.items())\n",
    "    positive_examples = [i for j in positive_examples for i in j]\n",
    "    positive_len_og = len(positive_examples)\n",
    "    positive_labels = [[0,1] for _ in positive_examples]\n",
    "    # generate negative examples of an equivalent length to the positive examples list\n",
    "    song_from_each_clique = (random.choice(val) for key,val in cliques.items())\n",
    "    negative_examples = itertools.combinations(song_from_each_clique,2)\n",
    "    negative_examples = list(itertools.islice(negative_examples, positive_len_og))\n",
    "    negative_labels = [[1,0] for _ in negative_examples]\n",
    "    # \n",
    "    x = positive_examples + negative_examples\n",
    "    y = positive_labels + negative_labels\n",
    "    return zip(x,y)"
   ]
  },
  {
   "cell_type": "code",
   "execution_count": 5,
   "metadata": {
    "collapsed": true,
    "deletable": true,
    "editable": true
   },
   "outputs": [],
   "source": [
    "def join_files_to_path(targets_labels):\n",
    "    return [(map(lambda x: os.path.join(TRAIN_FOLDER, x), target), label) for target,label in targets_labels] "
   ]
  },
  {
   "cell_type": "code",
   "execution_count": 6,
   "metadata": {
    "collapsed": false,
    "deletable": true,
    "editable": true
   },
   "outputs": [],
   "source": [
    "corrupted_folder = \"/Users/markostamenovic/code/shs/shs_train/small_size_mp3s\"\n",
    "\n",
    "def prune_corrupted_files(targets_labels):\n",
    "    corrupted_folder = os.path.join(TRAIN_FOLDER, \"small_size_mp3s\")\n",
    "    pruned = []\n",
    "    corrupted = [i for i in os.listdir(corrupted_folder) if i.endswith(\"mp3\")]\n",
    "    clean = [i for i in os.listdir(TRAIN_FOLDER) if i.endswith(\"mp3\")]\n",
    "    \n",
    "    for target, label in targets_labels:\n",
    "        if target[0] in corrupted or target[1] in corrupted:\n",
    "            pass\n",
    "        if target[0] not in clean or target[1] not in clean:\n",
    "            pass\n",
    "        else:\n",
    "            pruned.append((target,label))\n",
    "    return pruned\n",
    "    "
   ]
  },
  {
   "cell_type": "code",
   "execution_count": 93,
   "metadata": {
    "collapsed": false,
    "deletable": true,
    "editable": true
   },
   "outputs": [],
   "source": [
    "def process_one_file(file_path, _duration, augmentation = True):\n",
    "#     1 loop, best of 3: 578 ms per loop\n",
    "#     t0 = time.time()\n",
    "    file_path = file_path[0]\n",
    "    stretch_scale = .05\n",
    "#     duration = np.multiply( _duration, ( np.add( np.multiply( stretch_scale, 2), 1))) # we do this to pad for potential stretch\n",
    "    f_len = np.float32(taglib.File(file_path).length)\n",
    "    # require(duration >= f_len) check that duration is below length\n",
    "    start_bound = np.subtract(f_len, _duration)\n",
    "    start = np.float(np.random.randint(0,start_bound))\n",
    "    y, sr = librosa.core.load(path = file_path,\n",
    "                              offset = start,\n",
    "                              duration = _duration,  \n",
    "                              res_type='kaiser_fast')\n",
    "    ''' deformation pipeline'''\n",
    "    if augmentation:\n",
    "        jam = jams.JAMS()\n",
    "        jam.file_metadata.duration = librosa.get_duration(y=y, sr=sr)\n",
    "        jam.file_metadata.identifiers = os.path.basename(file_path)\n",
    "        j_orig = muda.jam_pack(jam, _audio=dict(y=y, sr=sr))\n",
    "        pitch_shift = muda.deformers.RandomPitchShift(n_samples=1, mean=0.0, sigma=1.0)\n",
    "        time_stretch = muda.deformers.RandomTimeStretch(n_samples=1, location=0.0, scale=stretch_scale)\n",
    "    #     noise = muda.deformers.BackgroundNoise(n_samples=1)\n",
    "    #     drc = muda.deformers.DynamicRangeCompression(preset=muda.deformers.PRESETS.keys())\n",
    "    #     drc = muda.deformers.PRESETS.keys()\n",
    "    #     drc.append(False)\n",
    "    #     drc = random.choice(drc)\n",
    "    #     if drc:\n",
    "    #         compress = muda.deformers.DynamicRangeCompression(preset=drc)\n",
    "    #     else:\n",
    "    #         compress = time_stretch\n",
    "        pipeline = muda.Pipeline(steps=[('pitch_shift', pitch_shift),\n",
    "                                        ('time_stretch', time_stretch)])\n",
    "        out = list(pipeline.transform(j_orig))[0]\n",
    "        y_t, sr_t = out.sandbox.muda._audio.values()\n",
    "        '''zero pad for deformation length change'''\n",
    "    else:\n",
    "        y_t = y\n",
    "        sr_t = sr\n",
    "        \n",
    "    required_samples = _duration*sr_t\n",
    "    deformed_samples = y_t.shape[0]\n",
    "    sample_diff = np.abs(np.subtract(deformed_samples,required_samples))\n",
    "\n",
    "    if deformed_samples > required_samples:\n",
    "        y_t = y_t[:required_samples]\n",
    "    else:\n",
    "        y_t = np.lib.pad(y_t, (0,sample_diff), 'constant', constant_values=(0, 0))\n",
    "    \n",
    "    '''get cqt'''\n",
    "    cqt = librosa.core.cqt(y_t, sr=sr_t,\n",
    "                           hop_length=1024, \n",
    "                           fmin=None, n_bins=84, \n",
    "                           bins_per_octave=12, \n",
    "                           tuning=0.0, \n",
    "                           filter_scale=1, \n",
    "                           norm=1, \n",
    "                           sparsity=0.01, \n",
    "                           window='hann', \n",
    "                           scale=True)\n",
    "    \n",
    "#     elapsed = time.time() - t0\n",
    "#     print(\"elapsed = {}\").format(elapsed)\n",
    "    return librosa.power_to_db(np.abs(cqt).astype(\"float32\"),ref=np.max)"
   ]
  },
  {
   "cell_type": "code",
   "execution_count": 9,
   "metadata": {
    "collapsed": true,
    "deletable": true,
    "editable": true
   },
   "outputs": [],
   "source": [
    "targets_labels = join_files_to_path(prune_corrupted_files(get_labels(cliques)))\n",
    "targets_t_0 = tf.cast(tf.expand_dims(tf.convert_to_tensor(np.array(targets_labels)[:,0][:,0]),1), tf.string)\n",
    "targets_t_1 = tf.cast(tf.expand_dims(tf.convert_to_tensor(np.array(targets_labels)[:,0][:,1]),1), tf.string)\n",
    "labels_t = tf.convert_to_tensor(np.array(targets_labels)[:,1].astype(\"float32\"))"
   ]
  },
  {
   "cell_type": "code",
   "execution_count": 10,
   "metadata": {
    "collapsed": false,
    "deletable": true,
    "editable": true
   },
   "outputs": [],
   "source": [
    "f0, f1, labels = tf.train.slice_input_producer(\n",
    "    [targets_t_0, targets_t_1, labels_t], \n",
    "    num_epochs=None, \n",
    "    shuffle=True, \n",
    "    seed=None, \n",
    "    capacity=10000)"
   ]
  },
  {
   "cell_type": "code",
   "execution_count": 94,
   "metadata": {
    "collapsed": true,
    "deletable": true,
    "editable": true
   },
   "outputs": [],
   "source": [
    "def get_slices(filename, sr=22050, hop_length=1024, duration=15, file_read_dur=29):\n",
    "    frames_pre_sec = int(sr/hop_length)\n",
    "    slice_size = duration*(frames_pre_sec)\n",
    "#     print(slice_size)\n",
    "    spec_1_t = tf.py_func(process_one_file, [filename, file_read_dur], tf.float32)\n",
    "#     _, ncols = spec_1_t.shape.as_list()\n",
    "    ncols=625\n",
    "    spec_1_t.set_shape([84, 625])\n",
    "    at_win = tf.map_fn(lambda i: spec_1_t[:,i:i+slice_size], tf.range(ncols - slice_size+1), dtype=tf.float32)\n",
    "    at_shuff = tf.random_shuffle(at_win)\n",
    "    return at_shuff"
   ]
  },
  {
   "cell_type": "code",
   "execution_count": 119,
   "metadata": {
    "collapsed": false
   },
   "outputs": [
    {
     "name": "stdout",
     "output_type": "stream",
     "text": [
      "((311, 2, 84, 315), (311, 2))\n"
     ]
    },
    {
     "ename": "KeyboardInterrupt",
     "evalue": "",
     "output_type": "error",
     "traceback": [
      "\u001b[0;31m---------------------------------------------------------------------------\u001b[0m",
      "\u001b[0;31mKeyboardInterrupt\u001b[0m                         Traceback (most recent call last)",
      "\u001b[0;32m<ipython-input-119-6ccb9aeec6be>\u001b[0m in \u001b[0;36m<module>\u001b[0;34m()\u001b[0m\n\u001b[1;32m      6\u001b[0m     \u001b[0;32mprint\u001b[0m\u001b[0;34m(\u001b[0m\u001b[0ma\u001b[0m\u001b[0;34m.\u001b[0m\u001b[0mshape\u001b[0m\u001b[0;34m,\u001b[0m \u001b[0mb\u001b[0m\u001b[0;34m.\u001b[0m\u001b[0mshape\u001b[0m\u001b[0;34m)\u001b[0m\u001b[0;34m\u001b[0m\u001b[0m\n\u001b[1;32m      7\u001b[0m     \u001b[0mcoord\u001b[0m\u001b[0;34m.\u001b[0m\u001b[0mrequest_stop\u001b[0m\u001b[0;34m(\u001b[0m\u001b[0;34m)\u001b[0m\u001b[0;34m\u001b[0m\u001b[0m\n\u001b[0;32m----> 8\u001b[0;31m     \u001b[0mcoord\u001b[0m\u001b[0;34m.\u001b[0m\u001b[0mjoin\u001b[0m\u001b[0;34m(\u001b[0m\u001b[0mthreads\u001b[0m\u001b[0;34m)\u001b[0m\u001b[0;34m\u001b[0m\u001b[0m\n\u001b[0m",
      "\u001b[0;32m/usr/local/lib/python2.7/site-packages/tensorflow/python/training/coordinator.pyc\u001b[0m in \u001b[0;36mjoin\u001b[0;34m(self, threads, stop_grace_period_secs, ignore_live_threads)\u001b[0m\n\u001b[1;32m    371\u001b[0m     \u001b[0mstop_wait_secs\u001b[0m \u001b[0;34m=\u001b[0m \u001b[0;36m0.001\u001b[0m\u001b[0;34m\u001b[0m\u001b[0m\n\u001b[1;32m    372\u001b[0m     \u001b[0;32mwhile\u001b[0m \u001b[0many\u001b[0m\u001b[0;34m(\u001b[0m\u001b[0mt\u001b[0m\u001b[0;34m.\u001b[0m\u001b[0mis_alive\u001b[0m\u001b[0;34m(\u001b[0m\u001b[0;34m)\u001b[0m \u001b[0;32mfor\u001b[0m \u001b[0mt\u001b[0m \u001b[0;32min\u001b[0m \u001b[0mthreads\u001b[0m\u001b[0;34m)\u001b[0m \u001b[0;32mand\u001b[0m \u001b[0mstop_grace_period_secs\u001b[0m \u001b[0;34m>=\u001b[0m \u001b[0;36m0.0\u001b[0m\u001b[0;34m:\u001b[0m\u001b[0;34m\u001b[0m\u001b[0m\n\u001b[0;32m--> 373\u001b[0;31m       \u001b[0mtime\u001b[0m\u001b[0;34m.\u001b[0m\u001b[0msleep\u001b[0m\u001b[0;34m(\u001b[0m\u001b[0mstop_wait_secs\u001b[0m\u001b[0;34m)\u001b[0m\u001b[0;34m\u001b[0m\u001b[0m\n\u001b[0m\u001b[1;32m    374\u001b[0m       \u001b[0mstop_grace_period_secs\u001b[0m \u001b[0;34m-=\u001b[0m \u001b[0mstop_wait_secs\u001b[0m\u001b[0;34m\u001b[0m\u001b[0m\n\u001b[1;32m    375\u001b[0m       \u001b[0mstop_wait_secs\u001b[0m \u001b[0;34m=\u001b[0m \u001b[0;36m2\u001b[0m \u001b[0;34m*\u001b[0m \u001b[0mstop_wait_secs\u001b[0m\u001b[0;34m\u001b[0m\u001b[0m\n",
      "\u001b[0;31mKeyboardInterrupt\u001b[0m: "
     ]
    }
   ],
   "source": [
    "with tf.Session() as sess:\n",
    "    init = tf.global_variables_initializer()\n",
    "    coord = tf.train.Coordinator()\n",
    "    threads = tf.train.start_queue_runners(sess=sess, coord=coord)\n",
    "    a,b = sess.run([specs, labels_tiled])\n",
    "    print(a.shape, b.shape)\n",
    "    coord.request_stop()\n",
    "    coord.join(threads)"
   ]
  },
  {
   "cell_type": "code",
   "execution_count": 121,
   "metadata": {
    "collapsed": false
   },
   "outputs": [
    {
     "data": {
      "image/png": "[encoded data removed]",
      "text/plain": [
       "<matplotlib.figure.Figure at 0x11af3c710>"
      ]
     },
     "metadata": {},
     "output_type": "display_data"
    }
   ],
   "source": [
    "plt.figure(figsize=(10, 4))\n",
    "librosa.display.specshow(a[1][1][:,:200],\n",
    "                          y_axis='cqt', fmax=11025,\n",
    "                          x_axis='time')\n",
    "plt.colorbar(format='%+2.0f dB')\n",
    "plt.title('cqt spectrogram')\n",
    "plt.tight_layout()"
   ]
  },
  {
   "cell_type": "code",
   "execution_count": 110,
   "metadata": {
    "collapsed": false,
    "deletable": true,
    "editable": true
   },
   "outputs": [],
   "source": [
    "specs = tf.stack([get_slices(f0), get_slices(f1)],1)\n",
    "labels_tiled = tf.tile(tf.expand_dims(labels,0),[tf.shape(specs)[0],1])"
   ]
  },
  {
   "cell_type": "code",
   "execution_count": 114,
   "metadata": {
    "collapsed": false,
    "deletable": true,
    "editable": true
   },
   "outputs": [],
   "source": [
    "example_batch, label_batch = tf.train.shuffle_batch(\n",
    "    \n",
    "    [specs, labels_tiled],                            \n",
    "    batch_size = 16,                       # dequeue this many\n",
    "    capacity = 8192,                       # this is the queue capacity\n",
    "    min_after_dequeue = 7192,              # minimum after dq\n",
    "    num_threads=8,\n",
    "    enqueue_many = True,                   # push multiple examples to queue for each input producer \n",
    "    shapes = [tf.TensorShape([2, 84, 315]),\n",
    "              tf.TensorShape([2])]# shape of the non-batch dimension\n",
    "\n",
    ")"
   ]
  },
  {
   "cell_type": "code",
   "execution_count": 117,
   "metadata": {
    "collapsed": false
   },
   "outputs": [],
   "source": [
    "example_batch, label_batch = tf.train.shuffle_batch_join(\n",
    "    \n",
    "    [[specs, labels_tiled]]*8,                            \n",
    "    batch_size = 16,                       # dequeue this many\n",
    "    capacity = 8192,                       # this is the queue capacity\n",
    "    min_after_dequeue = 7192,              # minimum after dq\n",
    "    enqueue_many = True,                   # push multiple examples to queue for each input producer \n",
    "    shapes = [tf.TensorShape([2, 84, 315]),\n",
    "              tf.TensorShape([2])]# shape of the non-batch dimension\n",
    "\n",
    ")"
   ]
  },
  {
   "cell_type": "code",
   "execution_count": 118,
   "metadata": {
    "collapsed": false,
    "deletable": true,
    "editable": true
   },
   "outputs": [
    {
     "name": "stdout",
     "output_type": "stream",
     "text": [
      "INFO:tensorflow:Error reported to Coordinator: <class 'tensorflow.python.framework.errors_impl.InvalidArgumentError'>, exceptions.ValueError: low >= high\n",
      "\t [[Node: PyFunc_5 = PyFunc[Tin=[DT_STRING, DT_INT32], Tout=[DT_FLOAT], token=\"pyfunc_5\", _device=\"/job:localhost/replica:0/task:0/cpu:0\"](input_producer/Gather_1, PyFunc_5/input_1)]]\n",
      "((16, 2, 84, 315), (16, 2))\n",
      "steps per sec = 0.0066053569348\n",
      "((16, 2, 84, 315), (16, 2))\n",
      "steps per sec = 6.04997720965\n",
      "((16, 2, 84, 315), (16, 2))\n",
      "steps per sec = 0.0972415584842\n",
      "((16, 2, 84, 315), (16, 2))\n",
      "steps per sec = 2.12568722531\n",
      "((16, 2, 84, 315), (16, 2))\n",
      "steps per sec = 0.0916461258971\n",
      "((16, 2, 84, 315), (16, 2))\n",
      "steps per sec = 5.98375913763\n",
      "((16, 2, 84, 315), (16, 2))\n",
      "steps per sec = 4.91200144281\n",
      "((16, 2, 84, 315), (16, 2))\n",
      "steps per sec = 3.16876970894\n",
      "((16, 2, 84, 315), (16, 2))\n",
      "steps per sec = 0.0929256966236\n",
      "((16, 2, 84, 315), (16, 2))\n",
      "steps per sec = 0.561704995277\n",
      "((16, 2, 84, 315), (16, 2))\n",
      "steps per sec = 5.18244619926\n",
      "((16, 2, 84, 315), (16, 2))\n",
      "steps per sec = 0.124389356732\n",
      "((16, 2, 84, 315), (16, 2))\n",
      "steps per sec = 0.312059426569\n",
      "((16, 2, 84, 315), (16, 2))\n",
      "steps per sec = 1.02807464938\n",
      "((16, 2, 84, 315), (16, 2))\n",
      "steps per sec = 0.176830314057\n",
      "((16, 2, 84, 315), (16, 2))\n",
      "steps per sec = 6.32542988391\n",
      "((16, 2, 84, 315), (16, 2))\n",
      "steps per sec = 0.165701978897\n",
      "((16, 2, 84, 315), (16, 2))\n",
      "steps per sec = 0.842826297731\n",
      "((16, 2, 84, 315), (16, 2))\n",
      "steps per sec = 0.093166168232\n",
      "((16, 2, 84, 315), (16, 2))\n",
      "steps per sec = 0.290215030707\n",
      "((16, 2, 84, 315), (16, 2))\n",
      "steps per sec = 0.204191393991\n",
      "((16, 2, 84, 315), (16, 2))\n",
      "steps per sec = 0.346359349113\n",
      "((16, 2, 84, 315), (16, 2))\n",
      "steps per sec = 0.306950729928\n",
      "((16, 2, 84, 315), (16, 2))\n",
      "steps per sec = 0.106026582836\n",
      "((16, 2, 84, 315), (16, 2))\n",
      "steps per sec = 1.10969201003\n",
      "((16, 2, 84, 315), (16, 2))\n",
      "steps per sec = 0.133090538447\n",
      "((16, 2, 84, 315), (16, 2))\n",
      "steps per sec = 0.875421372968\n",
      "((16, 2, 84, 315), (16, 2))\n",
      "steps per sec = 0.448399759716\n",
      "((16, 2, 84, 315), (16, 2))\n",
      "steps per sec = 11.2397505674\n",
      "((16, 2, 84, 315), (16, 2))\n",
      "steps per sec = 0.0928069843147\n",
      "((16, 2, 84, 315), (16, 2))\n",
      "steps per sec = 0.0505869091388\n",
      "((16, 2, 84, 315), (16, 2))\n",
      "steps per sec = 1.29138911562\n",
      "((16, 2, 84, 315), (16, 2))\n",
      "steps per sec = 0.360869103231\n",
      "((16, 2, 84, 315), (16, 2))\n",
      "steps per sec = 0.312502044266\n",
      "((16, 2, 84, 315), (16, 2))\n",
      "steps per sec = 0.291767277576\n",
      "((16, 2, 84, 315), (16, 2))\n",
      "steps per sec = 0.165285486141\n",
      "((16, 2, 84, 315), (16, 2))\n",
      "steps per sec = 1.3255709513\n",
      "((16, 2, 84, 315), (16, 2))\n",
      "steps per sec = 1.50395845159\n",
      "((16, 2, 84, 315), (16, 2))\n",
      "steps per sec = 0.099943410014\n",
      "((16, 2, 84, 315), (16, 2))\n",
      "steps per sec = 0.0919782369914\n",
      "((16, 2, 84, 315), (16, 2))\n",
      "steps per sec = 0.299732796931\n",
      "((16, 2, 84, 315), (16, 2))\n",
      "steps per sec = 6.58778442512\n",
      "((16, 2, 84, 315), (16, 2))\n",
      "steps per sec = 0.145411944299\n",
      "((16, 2, 84, 315), (16, 2))\n",
      "steps per sec = 0.457908796725\n",
      "((16, 2, 84, 315), (16, 2))\n",
      "steps per sec = 43.1388488913\n",
      "((16, 2, 84, 315), (16, 2))\n",
      "steps per sec = 102.083481393\n",
      "((16, 2, 84, 315), (16, 2))\n",
      "steps per sec = 170.154320487\n",
      "((16, 2, 84, 315), (16, 2))\n",
      "steps per sec = 104.546573943\n",
      "((16, 2, 84, 315), (16, 2))\n",
      "steps per sec = 141.122573265\n",
      "((16, 2, 84, 315), (16, 2))\n",
      "steps per sec = 89.2614016046\n",
      "((16, 2, 84, 315), (16, 2))\n",
      "steps per sec = 114.626656828\n",
      "((16, 2, 84, 315), (16, 2))\n",
      "steps per sec = 121.152628538\n",
      "((16, 2, 84, 315), (16, 2))\n",
      "steps per sec = 112.231189126\n",
      "((16, 2, 84, 315), (16, 2))\n",
      "steps per sec = 94.9302672974\n",
      "((16, 2, 84, 315), (16, 2))\n",
      "steps per sec = 109.337712781\n",
      "((16, 2, 84, 315), (16, 2))\n",
      "steps per sec = 111.794445333\n",
      "((16, 2, 84, 315), (16, 2))\n",
      "steps per sec = 92.736888653\n",
      "((16, 2, 84, 315), (16, 2))\n",
      "steps per sec = 2.26782511653\n",
      "((16, 2, 84, 315), (16, 2))\n",
      "steps per sec = 64.3505423526\n",
      "((16, 2, 84, 315), (16, 2))\n",
      "steps per sec = 51.6476296023\n",
      "((16, 2, 84, 315), (16, 2))\n",
      "steps per sec = 60.1687586969\n",
      "((16, 2, 84, 315), (16, 2))\n",
      "steps per sec = 77.737077194\n",
      "((16, 2, 84, 315), (16, 2))\n",
      "steps per sec = 30.0298845143\n",
      "((16, 2, 84, 315), (16, 2))\n",
      "steps per sec = 119.615114787\n",
      "((16, 2, 84, 315), (16, 2))\n",
      "steps per sec = 9.79622800154\n",
      "((16, 2, 84, 315), (16, 2))\n",
      "steps per sec = 126.984680593\n",
      "((16, 2, 84, 315), (16, 2))\n",
      "steps per sec = 121.212149236\n",
      "((16, 2, 84, 315), (16, 2))\n",
      "steps per sec = 159.643131732\n",
      "((16, 2, 84, 315), (16, 2))\n",
      "steps per sec = 17.9952805499\n",
      "((16, 2, 84, 315), (16, 2))\n",
      "steps per sec = 138.544757878\n",
      "((16, 2, 84, 315), (16, 2))\n",
      "steps per sec = 33.0481345783\n",
      "((16, 2, 84, 315), (16, 2))\n",
      "steps per sec = 138.599695988\n",
      "((16, 2, 84, 315), (16, 2))\n",
      "steps per sec = 50.9450261144\n",
      "((16, 2, 84, 315), (16, 2))\n",
      "steps per sec = 117.398718056\n",
      "((16, 2, 84, 315), (16, 2))\n",
      "steps per sec = 100.361408882\n",
      "((16, 2, 84, 315), (16, 2))\n",
      "steps per sec = 154.060752984\n",
      "((16, 2, 84, 315), (16, 2))\n",
      "steps per sec = 2.29094035357\n",
      "((16, 2, 84, 315), (16, 2))\n",
      "steps per sec = 76.5509663996\n",
      "((16, 2, 84, 315), (16, 2))\n",
      "steps per sec = 54.4156514745\n",
      "((16, 2, 84, 315), (16, 2))\n",
      "steps per sec = 73.7563789192\n",
      "((16, 2, 84, 315), (16, 2))\n",
      "steps per sec = 91.083498013\n",
      "((16, 2, 84, 315), (16, 2))\n",
      "steps per sec = 124.582053643\n",
      "((16, 2, 84, 315), (16, 2))\n",
      "steps per sec = 127.111676819\n",
      "((16, 2, 84, 315), (16, 2))\n",
      "steps per sec = 135.444311687\n",
      "((16, 2, 84, 315), (16, 2))\n",
      "steps per sec = 100.440719366\n",
      "((16, 2, 84, 315), (16, 2))\n",
      "steps per sec = 102.217824678\n",
      "((16, 2, 84, 315), (16, 2))\n",
      "steps per sec = 133.9391346\n",
      "((16, 2, 84, 315), (16, 2))\n",
      "steps per sec = 125.169476857\n",
      "((16, 2, 84, 315), (16, 2))\n",
      "steps per sec = 151.08075787\n",
      "((16, 2, 84, 315), (16, 2))\n",
      "steps per sec = 91.9118201341\n",
      "((16, 2, 84, 315), (16, 2))\n",
      "steps per sec = 190.261011567\n",
      "((16, 2, 84, 315), (16, 2))\n",
      "steps per sec = 168.041025641\n",
      "((16, 2, 84, 315), (16, 2))\n",
      "steps per sec = 109.039255446\n",
      "((16, 2, 84, 315), (16, 2))\n",
      "steps per sec = 114.180432297\n",
      "((16, 2, 84, 315), (16, 2))\n",
      "steps per sec = 166.778162154\n",
      "((16, 2, 84, 315), (16, 2))\n",
      "steps per sec = 2.21238985666\n",
      "((16, 2, 84, 315), (16, 2))\n",
      "steps per sec = 69.4110910686\n",
      "((16, 2, 84, 315), (16, 2))\n",
      "steps per sec = 80.5419771104\n",
      "((16, 2, 84, 315), (16, 2))\n",
      "steps per sec = 81.7395981525\n",
      "((16, 2, 84, 315), (16, 2))\n",
      "steps per sec = 84.8310984366\n",
      "mean steps per sec = 57.2474412728\n"
     ]
    },
    {
     "ename": "InvalidArgumentError",
     "evalue": "exceptions.ValueError: low >= high\n\t [[Node: PyFunc_5 = PyFunc[Tin=[DT_STRING, DT_INT32], Tout=[DT_FLOAT], token=\"pyfunc_5\", _device=\"/job:localhost/replica:0/task:0/cpu:0\"](input_producer/Gather_1, PyFunc_5/input_1)]]",
     "output_type": "error",
     "traceback": [
      "\u001b[0;31m---------------------------------------------------------------------------\u001b[0m",
      "\u001b[0;31mInvalidArgumentError\u001b[0m                      Traceback (most recent call last)",
      "\u001b[0;32m<ipython-input-118-51453679c539>\u001b[0m in \u001b[0;36m<module>\u001b[0;34m()\u001b[0m\n\u001b[1;32m     14\u001b[0m     \u001b[0;32mprint\u001b[0m\u001b[0;34m(\u001b[0m\u001b[0;34m\"mean steps per sec = {}\"\u001b[0m\u001b[0;34m)\u001b[0m\u001b[0;34m.\u001b[0m\u001b[0mformat\u001b[0m\u001b[0;34m(\u001b[0m\u001b[0mnp\u001b[0m\u001b[0;34m.\u001b[0m\u001b[0mmean\u001b[0m\u001b[0;34m(\u001b[0m\u001b[0msteps_per_sec\u001b[0m\u001b[0;34m[\u001b[0m\u001b[0;36m4\u001b[0m\u001b[0;34m:\u001b[0m\u001b[0;34m]\u001b[0m\u001b[0;34m)\u001b[0m\u001b[0;34m)\u001b[0m \u001b[0;31m#drop the first few steps bc thats filling queue\u001b[0m\u001b[0;34m\u001b[0m\u001b[0m\n\u001b[1;32m     15\u001b[0m     \u001b[0mcoord\u001b[0m\u001b[0;34m.\u001b[0m\u001b[0mrequest_stop\u001b[0m\u001b[0;34m(\u001b[0m\u001b[0;34m)\u001b[0m\u001b[0;34m\u001b[0m\u001b[0m\n\u001b[0;32m---> 16\u001b[0;31m     \u001b[0mcoord\u001b[0m\u001b[0;34m.\u001b[0m\u001b[0mjoin\u001b[0m\u001b[0;34m(\u001b[0m\u001b[0mthreads\u001b[0m\u001b[0;34m)\u001b[0m\u001b[0;34m\u001b[0m\u001b[0m\n\u001b[0m",
      "\u001b[0;32m/usr/local/lib/python2.7/site-packages/tensorflow/python/training/coordinator.pyc\u001b[0m in \u001b[0;36mjoin\u001b[0;34m(self, threads, stop_grace_period_secs, ignore_live_threads)\u001b[0m\n\u001b[1;32m    387\u001b[0m       \u001b[0mself\u001b[0m\u001b[0;34m.\u001b[0m\u001b[0m_registered_threads\u001b[0m \u001b[0;34m=\u001b[0m \u001b[0mset\u001b[0m\u001b[0;34m(\u001b[0m\u001b[0;34m)\u001b[0m\u001b[0;34m\u001b[0m\u001b[0m\n\u001b[1;32m    388\u001b[0m       \u001b[0;32mif\u001b[0m \u001b[0mself\u001b[0m\u001b[0;34m.\u001b[0m\u001b[0m_exc_info_to_raise\u001b[0m\u001b[0;34m:\u001b[0m\u001b[0;34m\u001b[0m\u001b[0m\n\u001b[0;32m--> 389\u001b[0;31m         \u001b[0msix\u001b[0m\u001b[0;34m.\u001b[0m\u001b[0mreraise\u001b[0m\u001b[0;34m(\u001b[0m\u001b[0;34m*\u001b[0m\u001b[0mself\u001b[0m\u001b[0;34m.\u001b[0m\u001b[0m_exc_info_to_raise\u001b[0m\u001b[0;34m)\u001b[0m\u001b[0;34m\u001b[0m\u001b[0m\n\u001b[0m\u001b[1;32m    390\u001b[0m       \u001b[0;32melif\u001b[0m \u001b[0mstragglers\u001b[0m\u001b[0;34m:\u001b[0m\u001b[0;34m\u001b[0m\u001b[0m\n\u001b[1;32m    391\u001b[0m         \u001b[0;32mif\u001b[0m \u001b[0mignore_live_threads\u001b[0m\u001b[0;34m:\u001b[0m\u001b[0;34m\u001b[0m\u001b[0m\n",
      "\u001b[0;32m/usr/local/lib/python2.7/site-packages/tensorflow/python/training/queue_runner_impl.pyc\u001b[0m in \u001b[0;36m_run\u001b[0;34m(self, sess, enqueue_op, coord)\u001b[0m\n\u001b[1;32m    236\u001b[0m           \u001b[0;32mbreak\u001b[0m\u001b[0;34m\u001b[0m\u001b[0m\n\u001b[1;32m    237\u001b[0m         \u001b[0;32mtry\u001b[0m\u001b[0;34m:\u001b[0m\u001b[0;34m\u001b[0m\u001b[0m\n\u001b[0;32m--> 238\u001b[0;31m           \u001b[0menqueue_callable\u001b[0m\u001b[0;34m(\u001b[0m\u001b[0;34m)\u001b[0m\u001b[0;34m\u001b[0m\u001b[0m\n\u001b[0m\u001b[1;32m    239\u001b[0m         \u001b[0;32mexcept\u001b[0m \u001b[0mself\u001b[0m\u001b[0;34m.\u001b[0m\u001b[0m_queue_closed_exception_types\u001b[0m\u001b[0;34m:\u001b[0m  \u001b[0;31m# pylint: disable=catching-non-exception\u001b[0m\u001b[0;34m\u001b[0m\u001b[0m\n\u001b[1;32m    240\u001b[0m           \u001b[0;31m# This exception indicates that a queue was closed.\u001b[0m\u001b[0;34m\u001b[0m\u001b[0;34m\u001b[0m\u001b[0m\n",
      "\u001b[0;32m/usr/local/lib/python2.7/site-packages/tensorflow/python/client/session.pyc\u001b[0m in \u001b[0;36m_single_operation_run\u001b[0;34m()\u001b[0m\n\u001b[1;32m   1061\u001b[0m         \u001b[0;32mwith\u001b[0m \u001b[0merrors\u001b[0m\u001b[0;34m.\u001b[0m\u001b[0mraise_exception_on_not_ok_status\u001b[0m\u001b[0;34m(\u001b[0m\u001b[0;34m)\u001b[0m \u001b[0;32mas\u001b[0m \u001b[0mstatus\u001b[0m\u001b[0;34m:\u001b[0m\u001b[0;34m\u001b[0m\u001b[0m\n\u001b[1;32m   1062\u001b[0m           tf_session.TF_Run(self._session, None, {}, [],\n\u001b[0;32m-> 1063\u001b[0;31m                             target_list_as_strings, status, None)\n\u001b[0m\u001b[1;32m   1064\u001b[0m       \u001b[0;32mreturn\u001b[0m \u001b[0m_single_operation_run\u001b[0m\u001b[0;34m\u001b[0m\u001b[0m\n\u001b[1;32m   1065\u001b[0m     \u001b[0;32melif\u001b[0m \u001b[0misinstance\u001b[0m\u001b[0;34m(\u001b[0m\u001b[0mfetches\u001b[0m\u001b[0;34m,\u001b[0m \u001b[0mops\u001b[0m\u001b[0;34m.\u001b[0m\u001b[0mTensor\u001b[0m\u001b[0;34m)\u001b[0m\u001b[0;34m:\u001b[0m\u001b[0;34m\u001b[0m\u001b[0m\n",
      "\u001b[0;32m/usr/local/Cellar/python/2.7.13/Frameworks/Python.framework/Versions/2.7/lib/python2.7/contextlib.pyc\u001b[0m in \u001b[0;36m__exit__\u001b[0;34m(self, type, value, traceback)\u001b[0m\n\u001b[1;32m     22\u001b[0m         \u001b[0;32mif\u001b[0m \u001b[0mtype\u001b[0m \u001b[0;32mis\u001b[0m \u001b[0mNone\u001b[0m\u001b[0;34m:\u001b[0m\u001b[0;34m\u001b[0m\u001b[0m\n\u001b[1;32m     23\u001b[0m             \u001b[0;32mtry\u001b[0m\u001b[0;34m:\u001b[0m\u001b[0;34m\u001b[0m\u001b[0m\n\u001b[0;32m---> 24\u001b[0;31m                 \u001b[0mself\u001b[0m\u001b[0;34m.\u001b[0m\u001b[0mgen\u001b[0m\u001b[0;34m.\u001b[0m\u001b[0mnext\u001b[0m\u001b[0;34m(\u001b[0m\u001b[0;34m)\u001b[0m\u001b[0;34m\u001b[0m\u001b[0m\n\u001b[0m\u001b[1;32m     25\u001b[0m             \u001b[0;32mexcept\u001b[0m \u001b[0mStopIteration\u001b[0m\u001b[0;34m:\u001b[0m\u001b[0;34m\u001b[0m\u001b[0m\n\u001b[1;32m     26\u001b[0m                 \u001b[0;32mreturn\u001b[0m\u001b[0;34m\u001b[0m\u001b[0m\n",
      "\u001b[0;32m/usr/local/lib/python2.7/site-packages/tensorflow/python/framework/errors_impl.pyc\u001b[0m in \u001b[0;36mraise_exception_on_not_ok_status\u001b[0;34m()\u001b[0m\n\u001b[1;32m    464\u001b[0m           \u001b[0mNone\u001b[0m\u001b[0;34m,\u001b[0m \u001b[0mNone\u001b[0m\u001b[0;34m,\u001b[0m\u001b[0;34m\u001b[0m\u001b[0m\n\u001b[1;32m    465\u001b[0m           \u001b[0mcompat\u001b[0m\u001b[0;34m.\u001b[0m\u001b[0mas_text\u001b[0m\u001b[0;34m(\u001b[0m\u001b[0mpywrap_tensorflow\u001b[0m\u001b[0;34m.\u001b[0m\u001b[0mTF_Message\u001b[0m\u001b[0;34m(\u001b[0m\u001b[0mstatus\u001b[0m\u001b[0;34m)\u001b[0m\u001b[0;34m)\u001b[0m\u001b[0;34m,\u001b[0m\u001b[0;34m\u001b[0m\u001b[0m\n\u001b[0;32m--> 466\u001b[0;31m           pywrap_tensorflow.TF_GetCode(status))\n\u001b[0m\u001b[1;32m    467\u001b[0m   \u001b[0;32mfinally\u001b[0m\u001b[0;34m:\u001b[0m\u001b[0;34m\u001b[0m\u001b[0m\n\u001b[1;32m    468\u001b[0m     \u001b[0mpywrap_tensorflow\u001b[0m\u001b[0;34m.\u001b[0m\u001b[0mTF_DeleteStatus\u001b[0m\u001b[0;34m(\u001b[0m\u001b[0mstatus\u001b[0m\u001b[0;34m)\u001b[0m\u001b[0;34m\u001b[0m\u001b[0m\n",
      "\u001b[0;31mInvalidArgumentError\u001b[0m: exceptions.ValueError: low >= high\n\t [[Node: PyFunc_5 = PyFunc[Tin=[DT_STRING, DT_INT32], Tout=[DT_FLOAT], token=\"pyfunc_5\", _device=\"/job:localhost/replica:0/task:0/cpu:0\"](input_producer/Gather_1, PyFunc_5/input_1)]]"
     ]
    }
   ],
   "source": [
    "with tf.Session() as sess:\n",
    "    init = tf.global_variables_initializer()\n",
    "    coord = tf.train.Coordinator()\n",
    "    threads = tf.train.start_queue_runners(sess=sess, coord=coord)\n",
    "    steps_per_sec = []\n",
    "    for _ in range(100):\n",
    "        t0 = time.time()\n",
    "        a,b = sess.run([example_batch, label_batch])\n",
    "        print(a.shape, b.shape)\n",
    "        elapsed = time.time() - t0\n",
    "        steps_sec = 1/elapsed\n",
    "        print(\"steps per sec = {}\").format(steps_sec)\n",
    "        steps_per_sec.append(steps_sec)\n",
    "    print(\"mean steps per sec = {}\").format(np.mean(steps_per_sec[4:])) #drop the first few steps bc thats filling queue\n",
    "    coord.request_stop()\n",
    "    coord.join(threads)"
   ]
  },
  {
   "cell_type": "code",
   "execution_count": null,
   "metadata": {
    "collapsed": true,
    "deletable": true,
    "editable": true
   },
   "outputs": [],
   "source": []
  }
 ],
 "metadata": {
  "kernelspec": {
   "display_name": "Python 2",
   "language": "python",
   "name": "python2"
  },
  "language_info": {
   "codemirror_mode": {
    "name": "ipython",
    "version": 2
   },
   "file_extension": ".py",
   "mimetype": "text/x-python",
   "name": "python",
   "nbconvert_exporter": "python",
   "pygments_lexer": "ipython2",
   "version": "2.7.13"
  }
 },
 "nbformat": 4,
 "nbformat_minor": 2
}
